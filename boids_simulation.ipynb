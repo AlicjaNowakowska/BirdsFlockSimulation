{
 "cells": [
  {
   "cell_type": "markdown",
   "metadata": {},
   "source": [
    "# Bird Flocking by Alicja\n",
    "In this notebook the implementation of the bird flocking behaviour in R is performed. Furtherly the animation is created. \n",
    "\n",
    "## Assumptions\n",
    "* Birds are represented by boids. \n",
    "* Each boid has its own position and velocity (object). \n",
    "* Boids are saved in a list of boids. \n",
    "* Boids move within a box (instead of classic periodic boundary conditions, easier to implement in R). If they land at the barrier of the box they bounce from it.\n",
    "* Three rules govern the motion of the boids - alignment, cohesion and separation.\n",
    "* After each iteration of the updates for all the system the coordinates are saved to the dataframe which is furtherly animated using gganimate.\n",
    "\n",
    "## Algorithm\n",
    "* In each time step we iterate through the list of boids. \n",
    "* For each boid in a list: \n",
    "\n",
    "-> we firstly move it according to its velocity (position=position+dt velocity, dt=1).\n",
    "\n",
    "-> we extract the list of its neighbour in a circle of r and some angle range (boid look only in some spectrum, e.g 70 degrees forward)\n",
    "\n",
    "-> we perform changes to its velocity according to the separtion, cohesion and alignment restrictions with respect to its neighbourhood.\n",
    "\n",
    "-> we take its position and save it to the dataframe (pos_x, pos_y, boid_numer, current time)\n",
    "\n",
    "* We animate the dataframe by placing the dots in a plot and animating over column with time.\n",
    "\n",
    "* SEPARATION: if distance <=minimal_distance : boid@velocity = boid@velocity - weight*(neighbour@position - boid@position)\n",
    "* ALIGNMENT: boid@velocity = boid@velocity + weight*(mean(neighbours' velocities)-boid@velocity) \n",
    "* COHESION: boid@velocity = boid@velocity + weight*(mean(neighbour's positions)-boid@position)\n"
   ]
  },
  {
   "cell_type": "code",
   "execution_count": 1,
   "metadata": {},
   "outputs": [
    {
     "name": "stderr",
     "output_type": "stream",
     "text": [
      "Warning message:\n",
      "\"package 'gganimate' was built under R version 3.6.3\"Loading required package: ggplot2\n",
      "Warning message:\n",
      "\"package 'ggplot2' was built under R version 3.6.3\""
     ]
    }
   ],
   "source": [
    "library(\"gganimate\")"
   ]
  },
  {
   "cell_type": "markdown",
   "metadata": {},
   "source": [
    "### Algorithm:\n",
    "For each iteration in time and for each boid:\n",
    "\n",
    "-> move the current boid according to the current velocity and save the current position\n",
    "\n",
    "-> update its velocity according to the rules\n",
    "\n",
    "In other words: we performed all the movements according to the previous settled velocities, however when we iterate over boids we change its velocity. When I move to the next boid and calculate something taking into account the old boid I do it with repsect to the updated values"
   ]
  },
  {
   "cell_type": "code",
   "execution_count": 54,
   "metadata": {},
   "outputs": [],
   "source": [
    "boid1 <- list(pos = 0, velocity = 0) \n",
    "boid2 <- list(pos = 1, velocity = 3)\n",
    "class(boid1)<-\"boid\"\n",
    "class(boid2)<-\"boid\""
   ]
  },
  {
   "cell_type": "code",
   "execution_count": 2,
   "metadata": {},
   "outputs": [],
   "source": [
    "setClass(\"boid\", slots=list(pos_x=\"numeric\",pos_y=\"numeric\", v_x=\"numeric\", v_y=\"numeric\"))\n",
    "\n",
    "# instead of classic periodic boundary conditions the ball bounces from the walls\n",
    "pbc<-function(boid, box){\n",
    "    \n",
    "    if (boid@pos_x>box){\n",
    "        boid@pos_x = box\n",
    "        boid@v_x = -boid@v_x\n",
    "    }\n",
    "    \n",
    "    if (boid@pos_x<0){\n",
    "        boid@pos_x = 0.0001\n",
    "        boid@v_x = -boid@v_x\n",
    "    }\n",
    "    \n",
    "    if (boid@pos_y>box){\n",
    "        boid@pos_y = box\n",
    "        boid@v_y = -boid@v_y\n",
    "    }\n",
    "    \n",
    "    if (boid@pos_y<0){\n",
    "        boid@pos_y = 0.0001\n",
    "        boid@v_y = -boid@v_y\n",
    "    }\n",
    "    return(boid)\n",
    "}\n",
    "\n",
    "move_boid <- function(boid, box){\n",
    "    dt=1\n",
    "    #move by velocity\n",
    "    x = boid@pos_x+boid@v_x*dt\n",
    "    y = boid@pos_y+boid@v_y*dt\n",
    "    boid@pos_x = x\n",
    "    boid@pos_y = y\n",
    "    boid = pbc(boid, box)\n",
    "    return(boid)\n",
    "}"
   ]
  },
  {
   "cell_type": "code",
   "execution_count": 3,
   "metadata": {},
   "outputs": [],
   "source": [
    "calculate_distance <- function(boid1, boid2){\n",
    "    distance = (boid1@pos_x-boid2@pos_x)**2 + (boid1@pos_y-boid2@pos_y)**2\n",
    "    return(sqrt(distance))\n",
    "}"
   ]
  },
  {
   "cell_type": "code",
   "execution_count": 4,
   "metadata": {},
   "outputs": [],
   "source": [
    "calculate_angle <- function(boid1, boid2){ \n",
    "    #we will use a dot product (x1,x2) dot product (y1, y2) = x1*y1+x2*y2 = length(x1)*length(x2) cos(angle between them)\n",
    "    scalar = boid1@pos_x*boid2@pos_x+boid1@pos_y*boid2@pos_y\n",
    "    length1 = sqrt(boid1@pos_x**2 + boid1@pos_y**2)\n",
    "    length2 = sqrt(boid2@pos_x**2 + boid2@pos_y**2)\n",
    "    \n",
    "    if (length1==0){\n",
    "        length1=0.01\n",
    "    }\n",
    "    if (length2==0){\n",
    "        length2=0.01\n",
    "    }\n",
    "    \n",
    "    if(scalar/(length1*length2) >1 | scalar/(length1*length2) < (-1)){\n",
    "    print(\"error\")\n",
    "    print(scalar/(length1*length2))\n",
    "    print(\"boid1\")\n",
    "    print(boid1)\n",
    "    print(\"boid2\")\n",
    "    print(boid2)}\n",
    "    \n",
    "    angle = acos(scalar/(length1*length2)) #arcus cosinus\n",
    "    return(180*angle/pi) # return in normal degrees\n",
    "}"
   ]
  },
  {
   "cell_type": "code",
   "execution_count": 5,
   "metadata": {},
   "outputs": [
    {
     "data": {
      "text/html": [
       "18.434948822922"
      ],
      "text/latex": [
       "18.434948822922"
      ],
      "text/markdown": [
       "18.434948822922"
      ],
      "text/plain": [
       "[1] 18.43495"
      ]
     },
     "metadata": {},
     "output_type": "display_data"
    }
   ],
   "source": [
    "boid1 <- new(\"boid\", pos_x=1 ,pos_y=1, v_x=1, v_y=1)\n",
    "boid2 <-new(\"boid\", pos_x=2 ,pos_y=1, v_x=1, v_y=1)\n",
    "calculate_angle(boid1, boid2)"
   ]
  },
  {
   "cell_type": "code",
   "execution_count": 6,
   "metadata": {},
   "outputs": [],
   "source": [
    "define_neigbourhood <- function(boid, list_of_boids, range_r, range_alpha){\n",
    "    neighbours = c()\n",
    "    index=1\n",
    "    for (some_boid in list_of_boids){\n",
    "        if (some_boid@pos_x!=boid@pos_x && some_boid@pos_y!=boid@pos_y && some_boid@v_x!=boid@v_x &&some_boid@v_y!=boid@v_y){\n",
    "            \n",
    "            D = calculate_distance(some_boid, boid)\n",
    "            if(D <= range_r){ #boid within a distance\n",
    "                angle = calculate_angle(some_boid, boid)\n",
    "                if (angle <= range_alpha){\n",
    "                    neighbours = c(neighbours, some_boid)\n",
    "                    index = index+1\n",
    "                }\n",
    "            }\n",
    "        \n",
    "        }\n",
    "        \n",
    "    }\n",
    "    \n",
    "    return(neighbours)\n",
    "}"
   ]
  },
  {
   "cell_type": "code",
   "execution_count": 7,
   "metadata": {},
   "outputs": [],
   "source": [
    "alignment <- function(boid, neighbours, weight){ #velocity in the same directions\n",
    "    if (length(neighbours) == 0 ){\n",
    "    }\n",
    "    else{\n",
    "        velocities_x = c()\n",
    "        velocities_y = c()\n",
    "        N = length(neighbours)\n",
    "        for (some_boid in neighbours){\n",
    "            velocities_x = c(velocities_x, some_boid@v_x)\n",
    "            velocities_y = c(velocities_y, some_boid@v_y)\n",
    "        }\n",
    "        boid@v_x = boid@v_x + weight*(mean(velocities_x)-boid@v_x) # przez N bylo\n",
    "        boid@v_y = boid@v_y + weight*(mean(velocities_y)-boid@v_y) # przez N bylo\n",
    "    }\n",
    "    return(boid)\n",
    "}"
   ]
  },
  {
   "cell_type": "code",
   "execution_count": 8,
   "metadata": {},
   "outputs": [],
   "source": [
    "separation <- function(boid, neighbours, weight, minimal_distance){ #according to the first solution in the slides (slide 42)\n",
    "    \n",
    "    for (neighbour in neighbours){\n",
    "        D = calculate_distance(boid, neighbour)\n",
    "        if (D<=minimal_distance){\n",
    "            boid@v_x = boid@v_x - weight*(neighbour@pos_x - boid@pos_x)\n",
    "            boid@v_y = boid@v_y - weight*(neighbour@pos_y - boid@pos_y)\n",
    "        }\n",
    "    }\n",
    "    return(boid)\n",
    "    \n",
    "}"
   ]
  },
  {
   "cell_type": "code",
   "execution_count": 9,
   "metadata": {},
   "outputs": [],
   "source": [
    "cohesion <- function(boid, neighbours, weight){ # fly in group\n",
    "\n",
    "    if (length(neighbours) == 0){}\n",
    "    else{\n",
    "        #print(\"in else\")\n",
    "        R_x = c()\n",
    "        R_y = c()\n",
    "        N = length(neighbours)\n",
    "        for (some_boid in neighbours){\n",
    "            R_x = c(R_x, some_boid@pos_x)\n",
    "            R_y = c(R_y, some_boid@pos_y)\n",
    "        }\n",
    "    \n",
    "        boid@v_x = boid@v_x + weight*(mean(R_x)-boid@pos_x) #mean przez N bylo\n",
    "        boid@v_y = boid@v_y + weight*(mean(R_y)-boid@pos_y) #mean przez N bylo\n",
    "    }\n",
    "\n",
    "    return(boid)\n",
    "}"
   ]
  },
  {
   "cell_type": "code",
   "execution_count": 10,
   "metadata": {},
   "outputs": [],
   "source": [
    "init_simulation <- function(number_of_boids, box){\n",
    "    list_of_boids=c()\n",
    "    for (i in 1:number_of_boids){\n",
    "        x = sample(1:box, 1)\n",
    "        y = sample(1:box, 1)\n",
    "        v_x = runif(1, min=-1.2, max=1.2)*3\n",
    "        v_y = runif(1, min=-1.2, max=1.2)*3\n",
    "        list_of_boids <- c(list_of_boids, new(\"boid\",pos_x=x ,pos_y=y, v_x=v_x, v_y=v_y))\n",
    "    }\n",
    "    return(list_of_boids)\n",
    "}"
   ]
  },
  {
   "cell_type": "code",
   "execution_count": 12,
   "metadata": {},
   "outputs": [],
   "source": [
    "# ranges needed for neighbourhood definition\n",
    "run_simulation <- function(number_of_boids, box, T, range_r, \n",
    "                           range_alpha, alignment_strength, minimal_separation, separation_strength, cohesion_strength){\n",
    "    pos_xs = c()\n",
    "    pos_ys = c()\n",
    "    boid_number = rep(seq(1, number_of_boids),T)\n",
    "    time = c()\n",
    "    \n",
    "    boids_list = init_simulation(number_of_boids, box)\n",
    "    \n",
    "    index=1\n",
    "    for (t in 1:T){\n",
    "        \n",
    "        for (boid_index in 1:number_of_boids){\n",
    "            \n",
    "            # take a current boid\n",
    "            current_boid = boids_list[[boid_index]]\n",
    "            \n",
    "            new_boid = move_boid(current_boid, box)\n",
    "            current_boid = new_boid\n",
    "            \n",
    "            # change velocity according to different rules\n",
    "            # first get the neighbours\n",
    "            neighbours = define_neigbourhood(current_boid, boids_list, range_r, range_alpha)\n",
    "            \n",
    "            # update velocity according to the alignment\n",
    "            #current_boid = alignment(current_boid, neighbours, alignment_strength)\n",
    "\n",
    "            #updatae velocity according to the minimal separation\n",
    "            current_boid = separation(current_boid, neighbours, separation_strength, minimal_separation)\n",
    "\n",
    "            # update by cohesion\n",
    "            current_boid = cohesion(current_boid, neighbours, cohesion_strength)\n",
    "            \n",
    "            #update the list of boids by providing the newest boid\n",
    "            boids_list[[boid_index]] = current_boid\n",
    "            \n",
    "            # save position to the list for gganiamate\n",
    "            pos_xs[index] = current_boid@pos_x\n",
    "            pos_ys[index] = current_boid@pos_y\n",
    "            index = index+1\n",
    "        }\n",
    "        time = c(time, rep(t,number_of_boids))\n",
    "    }\n",
    "    \n",
    "    data = data.frame(pos_xs = pos_xs, pos_ys = pos_ys, boid_number = boid_number, time = time)\n",
    "    return(data)\n",
    "    \n",
    "}"
   ]
  },
  {
   "cell_type": "code",
   "execution_count": 13,
   "metadata": {},
   "outputs": [],
   "source": [
    "number_of_boids=20\n",
    "box=200\n",
    "T=100\n",
    "range_r=10\n",
    "range_alpha=80\n",
    "alignment_strength=0.4\n",
    "separation_strength=0.4\n",
    "minimal_separation=40\n",
    "cohesion_strength=0.3\n",
    "\n",
    "data = run_simulation(number_of_boids, box, T, range_r, range_alpha,\n",
    "                      alignment_strength, separation_strength, minimal_separation, cohesion_strength)"
   ]
  },
  {
   "cell_type": "code",
   "execution_count": 14,
   "metadata": {},
   "outputs": [
    {
     "data": {
      "image/png": "[encoded data removed]",
      "text/plain": [
       "plot without title"
      ]
     },
     "metadata": {},
     "output_type": "display_data"
    }
   ],
   "source": [
    "p <- ggplot(data, aes(x = pos_xs, y=pos_ys, color=boid_number))+geom_point(size=3)+\n",
    "        scale_color_gradientn(colors = rainbow(10))+\n",
    "        theme_dark()+theme(plot.title = element_text(color=\"Blue\", size=17, face=\"bold\"))+xlab(\"X\")+ylab(\"Y\")+\n",
    "         ggtitle(\"Birds flocking simulation\")\n",
    "\n",
    "#low=\"yellow\", high=\"red\")\n",
    "        #scale_fill_gradient(low=\"blue\", high=\"red\")\n",
    "#scale_colour_manual(values = rainbow(10)) \n",
    "p"
   ]
  },
  {
   "cell_type": "code",
   "execution_count": 15,
   "metadata": {},
   "outputs": [],
   "source": [
    "ani<-p + transition_time(time)\n",
    "animate(ani, height = 500, width =500, renderer = gifski_renderer(loop = T), fps=6)"
   ]
  },
  {
   "cell_type": "code",
   "execution_count": 19,
   "metadata": {},
   "outputs": [
    {
     "data": {
      "text/html": [
       "<table>\n",
       "<thead><tr><th scope=col>x</th><th scope=col>y</th><th scope=col>t</th></tr></thead>\n",
       "<tbody>\n",
       "\t<tr><td>1</td><td>1</td><td>1</td></tr>\n",
       "\t<tr><td>2</td><td>3</td><td>2</td></tr>\n",
       "\t<tr><td>3</td><td>4</td><td>3</td></tr>\n",
       "\t<tr><td>4</td><td>7</td><td>4</td></tr>\n",
       "\t<tr><td>5</td><td>8</td><td>5</td></tr>\n",
       "\t<tr><td>6</td><td>9</td><td>6</td></tr>\n",
       "</tbody>\n",
       "</table>\n"
      ],
      "text/latex": [
       "\\begin{tabular}{r|lll}\n",
       " x & y & t\\\\\n",
       "\\hline\n",
       "\t 1 & 1 & 1\\\\\n",
       "\t 2 & 3 & 2\\\\\n",
       "\t 3 & 4 & 3\\\\\n",
       "\t 4 & 7 & 4\\\\\n",
       "\t 5 & 8 & 5\\\\\n",
       "\t 6 & 9 & 6\\\\\n",
       "\\end{tabular}\n"
      ],
      "text/markdown": [
       "\n",
       "| x | y | t |\n",
       "|---|---|---|\n",
       "| 1 | 1 | 1 |\n",
       "| 2 | 3 | 2 |\n",
       "| 3 | 4 | 3 |\n",
       "| 4 | 7 | 4 |\n",
       "| 5 | 8 | 5 |\n",
       "| 6 | 9 | 6 |\n",
       "\n"
      ],
      "text/plain": [
       "  x y t\n",
       "1 1 1 1\n",
       "2 2 3 2\n",
       "3 3 4 3\n",
       "4 4 7 4\n",
       "5 5 8 5\n",
       "6 6 9 6"
      ]
     },
     "metadata": {},
     "output_type": "display_data"
    }
   ],
   "source": [
    
   ]
  }
 ],
 "metadata": {
  "kernelspec": {
   "display_name": "R",
   "language": "R",
   "name": "ir"
  },
  "language_info": {
   "codemirror_mode": "r",
   "file_extension": ".r",
   "mimetype": "text/x-r-source",
   "name": "R",
   "pygments_lexer": "r",
   "version": "3.6.1"
  }
 },
 "nbformat": 4,
 "nbformat_minor": 4
}
